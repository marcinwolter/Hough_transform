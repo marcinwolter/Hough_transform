{
 "cells": [
  {
   "cell_type": "markdown",
   "id": "52c4f2ff",
   "metadata": {},
   "source": [
    "# **Convert root to csv**"
   ]
  },
  {
   "cell_type": "code",
   "execution_count": 1,
   "id": "9b69b2c8",
   "metadata": {},
   "outputs": [
    {
     "name": "stderr",
     "output_type": "stream",
     "text": [
      "gzip: odd_output_singleMu_all_SP_10000/spacepoints.csv.gz already exists;\tnot overwritten\n"
     ]
    },
    {
     "name": "stdout",
     "output_type": "stream",
     "text": [
      "Data saved as odd_output_singleMu_all_SP_10000/spacepoints.csv\n",
      "Data saved as odd_output_singleMu_all_SP_10000/particles_simulation.csv\n"
     ]
    }
   ],
   "source": [
    "import uproot\n",
    "import pandas as pd\n",
    "import gzip\n",
    "import subprocess\n",
    "import awkward as ak\n",
    "\n",
    "\n",
    "\n",
    "#list = [\"odd_output_singleMu_1000/spacepoints\", \"odd_output_ttbar_PU200_100/spacepoints\",\n",
    "#        \"odd_output_singleMu_1000/particles_initial\", \"odd_output_ttbar_PU200_100/particles_initial\"]\n",
    "list = [\"odd_output_singleMu_all_SP_10000/spacepoints\", \n",
    "        \"odd_output_singleMu_all_SP_10000/particles_simulation\"]\n",
    "\n",
    "\n",
    "for file_name in list:\n",
    "    # Open the ROOT file\n",
    "    file = uproot.open(file_name+\".root\")\n",
    "\n",
    "    # Access a TTree (replace 'tree_name' with the actual name of your TTree)\n",
    "    if \"spacepoints\" in file_name:\n",
    "        tree_name = \"spacepoints\"\n",
    "    elif \"particles\" in file_name:\n",
    "        tree_name = \"particles\"\n",
    "    tree = file[tree_name]\n",
    "\n",
    "    # Convert the TTree to a Pandas DataFrame\n",
    "    #df = tree.arrays(library=\"pd\")\n",
    "    # Load data into an Awkward Array\n",
    "    data = tree.arrays()\n",
    "\n",
    "    # Convert to pandas DataFrame\n",
    "    df = ak.to_dataframe(data)\n",
    "\n",
    "    # Save the DataFrame as a CSV file\n",
    "    csv_filename = file_name+\".csv\"\n",
    "    df.to_csv(csv_filename, index=False)\n",
    "    # Run the gzip command using the subprocess module\n",
    "    subprocess.run([\"gzip\", csv_filename])\n",
    "\n",
    "    print(f\"Data saved as {csv_filename}\")\n",
    "\n"
   ]
  }
 ],
 "metadata": {
  "@webio": {
   "lastCommId": null,
   "lastKernelId": null
  },
  "kernelspec": {
   "display_name": "Python 3",
   "language": "python",
   "name": "python3"
  },
  "language_info": {
   "codemirror_mode": {
    "name": "ipython",
    "version": 3
   },
   "file_extension": ".py",
   "mimetype": "text/x-python",
   "name": "python",
   "nbconvert_exporter": "python",
   "pygments_lexer": "ipython3",
   "version": "3.11.9"
  }
 },
 "nbformat": 4,
 "nbformat_minor": 5
}
